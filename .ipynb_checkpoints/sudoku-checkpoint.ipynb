{
 "cells": [
  {
   "cell_type": "markdown",
   "metadata": {},
   "source": [
    "# Sudoku miniproject\n",
    "\n",
    "Below you will find the most elegant solution of sudoku solver coded by Peter Norvig. It's a good notation and implementation of two (simple) techniques that are enough to solve sudoku in a reasonable time.\n",
    "\n",
    "You can find the original post here: http://norvig.com/sudoku.html\n",
    "\n",
    "The best website about sudoku: http://www.sudokudragon.com/sudokutheory.htm"
   ]
  },
  {
   "cell_type": "markdown",
   "metadata": {},
   "source": [
    "### Sudoku Notation and Preliminary Notions\n",
    "\n",
    "First we have to agree on some notation. A Sudoku puzzle is a grid of 81 squares; the majority of enthusiasts label the columns 1-9, the rows A-I, and call a collection of nine squares (column, row, or box) a unit and the squares that share a unit the peers. A puzzle leaves some squares blank and fills others with digits, and the whole idea is:\n",
    "A puzzle is solved if the squares in each unit are filled with a permutation of the digits 1 to 9.\n",
    "That is, no digit can appear twice in a unit, and every digit must appear once. This implies that each square must have a different value from any of its peers. Here are the names of the squares, a typical puzzle, and the solution to the puzzle:\n",
    "\n",
    "```\n",
    " A1 A2 A3| A4 A5 A6| A7 A8 A9    4 . . |. . . |8 . 5     4 1 7 |3 6 9 |8 2 5 \n",
    " B1 B2 B3| B4 B5 B6| B7 B8 B9    . 3 . |. . . |. . .     6 3 2 |1 5 8 |9 4 7\n",
    " C1 C2 C3| C4 C5 C6| C7 C8 C9    . . . |7 . . |. . .     9 5 8 |7 2 4 |3 1 6 \n",
    "---------+---------+---------    ------+------+------    ------+------+------\n",
    " D1 D2 D3| D4 D5 D6| D7 D8 D9    . 2 . |. . . |. 6 .     8 2 5 |4 3 7 |1 6 9 \n",
    " E1 E2 E3| E4 E5 E6| E7 E8 E9    . . . |. 8 . |4 . .     7 9 1 |5 8 6 |4 3 2 \n",
    " F1 F2 F3| F4 F5 F6| F7 F8 F9    . . . |. 1 . |. . .     3 4 6 |9 1 2 |7 5 8 \n",
    "---------+---------+---------    ------+------+------    ------+------+------\n",
    " G1 G2 G3| G4 G5 G6| G7 G8 G9    . . . |6 . 3 |. 7 .     2 8 9 |6 4 3 |5 7 1 \n",
    " H1 H2 H3| H4 H5 H6| H7 H8 H9    5 . . |2 . . |. . .     5 7 3 |2 9 1 |6 8 4 \n",
    " I1 I2 I3| I4 I5 I6| I7 I8 I9    1 . 4 |. . . |. . .     1 6 4 |8 7 5 |2 9 3 \n",
    "```\n",
    "\n",
    "Every square has exactly 3 units and 20 peers. For example, here are the units and peers for the square C2:\n",
    "\n",
    "```\n",
    "    A2   |         |                    |         |            A1 A2 A3|         |         \n",
    "    B2   |         |                    |         |            B1 B2 B3|         |         \n",
    "    C2   |         |            C1 C2 C3| C4 C5 C6| C7 C8 C9   C1 C2 C3|         |         \n",
    "---------+---------+---------  ---------+---------+---------  ---------+---------+---------\n",
    "    D2   |         |                    |         |                    |         |         \n",
    "    E2   |         |                    |         |                    |         |         \n",
    "    F2   |         |                    |         |                    |         |         \n",
    "---------+---------+---------  ---------+---------+---------  ---------+---------+---------\n",
    "    G2   |         |                    |         |                    |         |         \n",
    "    H2   |         |                    |         |                    |         |         \n",
    "    I2   |         |                    |         |                    |         |    \n",
    "```"
   ]
  },
  {
   "cell_type": "code",
   "execution_count": 1,
   "metadata": {},
   "outputs": [
    {
     "name": "stdout",
     "output_type": "stream",
     "text": [
      "[['A1', 'B1', 'C1', 'D1', 'E1', 'F1', 'G1', 'H1', 'I1'], ['A1', 'A2', 'A3', 'A4', 'A5', 'A6', 'A7', 'A8', 'A9'], ['A1', 'A2', 'A3', 'B1', 'B2', 'B3', 'C1', 'C2', 'C3']]\n"
     ]
    }
   ],
   "source": [
    "#notation\n",
    "\n",
    "def cross(A, B):\n",
    "    \"Cross product of elements in A and elements in B.\"\n",
    "    return [a+b for a in A for b in B]\n",
    "\n",
    "digits   = '123456789'\n",
    "rows     = 'ABCDEFGHI'\n",
    "cols     = digits\n",
    "squares  = cross(rows, cols)\n",
    "unitlist = ([cross(rows, c) for c in cols] +\n",
    "            [cross(r, cols) for r in rows] +\n",
    "            [cross(rs, cs) for rs in ('ABC','DEF','GHI') for cs in ('123','456','789')])\n",
    "units = dict((s, [u for u in unitlist if s in u]) \n",
    "             for s in squares)\n",
    "peers = dict((s, set(sum(units[s],[]))-set([s]))\n",
    "             for s in squares)\n",
    "\n",
    "print(units['A1'])"
   ]
  },
  {
   "cell_type": "markdown",
   "metadata": {},
   "source": [
    "### Sudoku grid\n",
    "Now that we have squares, units, and peers, the next step is to define the Sudoku playing grid. Actually we need two representations: First, a textual format used to specify the initial state of a puzzle; we will reserve the name grid for this. Second, an internal representation of any state of a puzzle, partially solved or complete; this we will call a values collection because it will give all the remaining possible values for each square. For the textual format (grid) we'll allow a string of characters with 1-9 indicating a digit, and a 0 or period specifying an empty square. All other characters are ignored (including spaces, newlines, dashes, and bars). So each of the following three grid strings represent the same puzzle:\n",
    "\n"
   ]
  },
  {
   "cell_type": "code",
   "execution_count": 2,
   "metadata": {},
   "outputs": [
    {
     "name": "stdout",
     "output_type": "stream",
     "text": [
      "4 . . |. . . |8 . 5 \n",
      ". 3 . |. . . |. . . \n",
      ". . . |7 . . |. . . \n",
      "------+------+------\n",
      ". 2 . |. . . |. 6 . \n",
      ". . . |. 8 . |4 . . \n",
      ". . . |. 1 . |. . . \n",
      "------+------+------\n",
      ". . . |6 . 3 |. 7 . \n",
      "5 . . |2 . . |. . . \n",
      "1 . 4 |. . . |. . . \n",
      "\n"
     ]
    }
   ],
   "source": [
    "# parser\n",
    "def grid_values(grid):\n",
    "    \"Convert grid into a dict of {square: char} with '0' or '.' for empties.\"\n",
    "    chars = [c for c in grid if c in digits or c in '0.']\n",
    "    assert len(chars) == 81\n",
    "    return dict(zip(squares, chars))\n",
    "\n",
    "def display(values):\n",
    "    \"Display these values as a 2-D grid.\"\n",
    "    width = 1+max(len(values[s]) for s in squares)\n",
    "    line = '+'.join(['-'*(width*3)]*3)\n",
    "    for r in rows:\n",
    "        print(''.join(values[r+c].center(width)+('|' if c in '36' else '') for c in cols))\n",
    "        if r in 'CF': print(line)\n",
    "    print()\n",
    "\n",
    "# sample sudoku\n",
    "grid1 = '003020600900305001001806400008102900700000008006708200002609500800203009005010300'\n",
    "grid2 = \"4.....8.5.3..........7......2.....6.....8.4......1.......6.3.7.5..2.....1.4......\"\n",
    "display(grid_values(grid2))"
   ]
  },
  {
   "cell_type": "markdown",
   "metadata": {},
   "source": [
    "### Parser\n",
    "Now for values. One might think that a 9 x 9 array would be the obvious data structure. But squares have names like 'A1', not (0,0). Therefore, values will be a dict with squares as keys. The value of each key will be the possible digits for that square: a single digit if it was given as part of the puzzle definition or if we have figured out what it must be, and a collection of several digits if we are still uncertain. This collection of digits could be represented by a Python set or list, but I chose instead to use a string of digits (we'll see why later). So a grid where A1 is 7 and C7 is empty would be represented as {'A1': '7', 'C7': '123456789', ...}."
   ]
  },
  {
   "cell_type": "code",
   "execution_count": 3,
   "metadata": {},
   "outputs": [
    {
     "name": "stdout",
     "output_type": "stream",
     "text": [
      "{'A1': '4', 'A2': '.', 'A3': '.', 'A4': '.', 'A5': '.', 'A6': '.', 'A7': '8', 'A8': '.', 'A9': '5', 'B1': '.', 'B2': '3', 'B3': '.', 'B4': '.', 'B5': '.', 'B6': '.', 'B7': '.', 'B8': '.', 'B9': '.', 'C1': '.', 'C2': '.', 'C3': '.', 'C4': '7', 'C5': '.', 'C6': '.', 'C7': '.', 'C8': '.', 'C9': '.', 'D1': '.', 'D2': '2', 'D3': '.', 'D4': '.', 'D5': '.', 'D6': '.', 'D7': '.', 'D8': '6', 'D9': '.', 'E1': '.', 'E2': '.', 'E3': '.', 'E4': '.', 'E5': '8', 'E6': '.', 'E7': '4', 'E8': '.', 'E9': '.', 'F1': '.', 'F2': '.', 'F3': '.', 'F4': '.', 'F5': '1', 'F6': '.', 'F7': '.', 'F8': '.', 'F9': '.', 'G1': '.', 'G2': '.', 'G3': '.', 'G4': '6', 'G5': '.', 'G6': '3', 'G7': '.', 'G8': '7', 'G9': '.', 'H1': '5', 'H2': '.', 'H3': '.', 'H4': '2', 'H5': '.', 'H6': '.', 'H7': '.', 'H8': '.', 'H9': '.', 'I1': '1', 'I2': '.', 'I3': '4', 'I4': '.', 'I5': '.', 'I6': '.', 'I7': '.', 'I8': '.', 'I9': '.'}\n"
     ]
    }
   ],
   "source": [
    "def parse_grid(grid):\n",
    "    \"\"\"Convert grid to a dict of possible values, {square: digits}, or\n",
    "    return False if a contradiction is detected.\"\"\"\n",
    "    ## To start, every square can be any digit; then assign values from the grid.\n",
    "    values = dict((s, digits) for s in squares)\n",
    "    for s,d in grid_values(grid).items():\n",
    "        if d in digits and not assign(values, s, d):\n",
    "            return False ## (Fail if we can't assign d to square s.)\n",
    "    return values\n",
    "\n",
    "grid2 = \"4.....8.5.3..........7......2.....6.....8.4......1.......6.3.7.5..2.....1.4......\"\n",
    "sudoku_values = (grid_values(grid2))\n",
    "                 \n",
    "print(sudoku_values)"
   ]
  },
  {
   "cell_type": "markdown",
   "metadata": {},
   "source": [
    "# Constraint Propagation - original code\n",
    "The function parse_grid calls assign(values, s, d). We could implement this as values[s] = d, but we can do more than just that. Those with experience solving Sudoku puzzles know that there are two important strategies that we can use to make progress towards filling in all the squares:\n",
    "\n",
    "(1) If a square has only one possible value, then eliminate that value from the square's peers. \n",
    "\n",
    "(2) If a unit has only one possible place for a value, then put the value there.\n",
    "\n",
    "As an example of strategy (1) if we assign 7 to A1, yielding {'A1': '7', 'A2':'123456789', ...}, we see that A1 has only one value, and thus the 7 can be removed from its peer A2 (and all other peers), giving us {'A1': '7', 'A2': '12345689', ...}. As an example of strategy (2), if it turns out that none of A3 through A9 has a 3 as a possible value, then the 3 must belong in A2, and we can update to {'A1': '7', 'A2':'3', ...}. These updates to A2 may in turn cause further updates to its peers, and the peers of those peers, and so on. This process is called constraint propagation.\n",
    "\n",
    "The function assign(values, s, d) will return the updated values (including the updates from constraint propagation), but if there is a contradiction--if the assignment cannot be made consistently--then assign returns False. For example, if a grid starts with the digits '77...' then when we try to assign the 7 to A2, assign would notice that 7 is not a possibility for A2, because it was eliminated by the peer, A1.\n",
    "\n",
    "It turns out that the fundamental operation is not assigning a value, but rather eliminating one of the possible values for a square, which we implement with eliminate(values, s, d). Once we have eliminate, then assign(values, s, d) can be defined as \"eliminate all the values from s except d\"."
   ]
  },
  {
   "cell_type": "code",
   "execution_count": 4,
   "metadata": {},
   "outputs": [],
   "source": [
    "from copy import deepcopy\n",
    "\n",
    "def assign(values, s, d):\n",
    "    \"\"\"Eliminate all the other values (except d) from values[s] and propagate.\n",
    "    Return values, except return False if a contradiction is detected.\"\"\"\n",
    "    other_values = values[s].replace(d, '')\n",
    "    if all(eliminate_value(values, s, d2) for d2 in other_values):\n",
    "        return values\n",
    "    else:\n",
    "        return False\n",
    "\n",
    "def eliminate_value(values, s, d):\n",
    "    \"\"\"Eliminate d from values[s]; propagate when values or places <= 2.\n",
    "    Return values, except return False if a contradiction is detected.\"\"\"\n",
    "    if d not in values[s]:\n",
    "        return values ## Already eliminated\n",
    "    values[s] = values[s].replace(d,'')\n",
    "    ## (1) If a square s is reduced to one value d2, then eliminate d2 from the peers.\n",
    "    if len(values[s]) == 0:\n",
    "        return False ## Contradiction: removed last value\n",
    "    elif len(values[s]) == 1:\n",
    "        d2 = values[s]\n",
    "        if not all(eliminate_value(values, s2, d2) for s2 in peers[s]):\n",
    "            return False\n",
    "    ## (2) If a unit u is reduced to only one place for a value d, then put it there.\n",
    "    for u in units[s]:\n",
    "        dplaces = [s for s in u if d in values[s]]\n",
    "        if len(dplaces) == 0:\n",
    "            return False ## Contradiction: no place for this value\n",
    "        elif len(dplaces) == 1:\n",
    "            # d can only be in one place in unit; assign it there\n",
    "            if not assign(values, dplaces[0], d):\n",
    "                return False\n",
    "    return values"
   ]
  },
  {
   "cell_type": "markdown",
   "metadata": {},
   "source": [
    "### Test run"
   ]
  },
  {
   "cell_type": "code",
   "execution_count": 5,
   "metadata": {},
   "outputs": [
    {
     "name": "stdout",
     "output_type": "stream",
     "text": [
      "4 8 3 |9 2 1 |6 5 7 \n",
      "9 6 7 |3 4 5 |8 2 1 \n",
      "2 5 1 |8 7 6 |4 9 3 \n",
      "------+------+------\n",
      "5 4 8 |1 3 2 |9 7 6 \n",
      "7 2 9 |5 6 4 |1 3 8 \n",
      "1 3 6 |7 9 8 |2 4 5 \n",
      "------+------+------\n",
      "3 7 2 |6 8 9 |5 1 4 \n",
      "8 1 4 |2 5 3 |7 6 9 \n",
      "6 9 5 |4 1 7 |3 8 2 \n",
      "\n"
     ]
    }
   ],
   "source": [
    "grid2 = \"4.....8.5.3..........7......2.....6.....8.4......1.......6.3.7.5..2.....1.4......\"\n",
    "sudoku_values = (parse_grid(grid1))\n",
    "display(sudoku_values)\n"
   ]
  },
  {
   "cell_type": "markdown",
   "metadata": {},
   "source": [
    "# Constraint Propagation - code refactoring\n",
    "\n",
    "Try to decompose* eliminate function into smaller one.\n",
    "* Decomposition is a process by which you can break down one complex function into multiple smaller functions. By doing this, you can solve for functions in shorter, easier-to-understand pieces."
   ]
  },
  {
   "cell_type": "code",
   "execution_count": 6,
   "metadata": {},
   "outputs": [
    {
     "name": "stdout",
     "output_type": "stream",
     "text": [
      "   4      1679   12679  |  139     2369    269   |   8      1239     5    \n",
      " 26789     3    1256789 | 14589   24569   245689 | 12679    1249   124679 \n",
      "  2689   15689   125689 |   7     234569  245689 | 12369   12349   123469 \n",
      "------------------------+------------------------+------------------------\n",
      "  3789     2     15789  |  3459   34579    4579  | 13579     6     13789  \n",
      "  3679   15679   15679  |  359      8     25679  |   4     12359   12379  \n",
      " 36789     4     56789  |  359      1     25679  | 23579   23589   23789  \n",
      "------------------------+------------------------+------------------------\n",
      "  289      89     289   |   6      459      3    |  1259     7     12489  \n",
      "   5      6789     3    |   2      479      1    |   69     489     4689  \n",
      "   1      6789     4    |  589     579     5789  | 23569   23589   23689  \n",
      "\n"
     ]
    }
   ],
   "source": [
    "# todo\n",
    "\n",
    "def eliminate(values):\n",
    "    \"\"\"\n",
    "    Iterate through all squares and every time \n",
    "       if there is a square with one value, \n",
    "       then eliminate this value from the peers\n",
    "\n",
    "    input: sudoku in dictionary form\n",
    "    output: resulting sudoku in dictionary form\n",
    "    \"\"\"\n",
    "    for key in values.keys():\n",
    "        if len(values[key]) == 0:\n",
    "            return False\n",
    "        elif len(values[key]) == 1:            \n",
    "            for peer in peers[key]:\n",
    "                values[peer] = values[peer].replace(values[key],'')\n",
    "    return values\n",
    "\n",
    "\n",
    "def only_choice(values):\n",
    "    \"\"\"\n",
    "    Iterate through all squares and every time\n",
    "        if there is a square with a value that only fits in one square, \n",
    "        assign the value to this square\n",
    "\n",
    "    input: sudoku in dictionary form\n",
    "    output: resulting sudoku in dictionary form\n",
    "    \"\"\"\n",
    "    digits   = '123456789'\n",
    "    rows     = 'ABCDEFGHI'\n",
    "    for key in values.keys():\n",
    "        if len(values[key]) == 0:\n",
    "            return False\n",
    "        elif len(values[key]) != 1: \n",
    "            for numbers in values[key]:\n",
    "                letter = key[0]\n",
    "                number = key[1]\n",
    "\n",
    "                rows_ind = rows.find(letter)\n",
    "                rows_ind = rows_ind - (rows_ind%3)\n",
    "                digits_ind = digits.find(number)\n",
    "                digits_ind = digits_ind - (digits_ind%3)\n",
    "                unit = cross(rows[rows_ind : rows_ind+3], digits[digits_ind : digits_ind+3])\n",
    "                \n",
    "                for unit in units[key]:\n",
    "                    digits_not_found = digits[:]\n",
    "                    for sqr in unit:\n",
    "                        if sqr != key:\n",
    "                            digits_not_found = digits_not_found.translate(str.maketrans('', '', values[sqr]))\n",
    "                    if len(digits_not_found)==1 and digits_not_found in values[key]:\n",
    "                        values[key] = digits_not_found\n",
    "                        break\n",
    "    return values\n",
    "\n",
    "def solved_check(values):\n",
    "    \"\"\"\n",
    "    Check whether or not the sudoku puzzle is already solved.\n",
    "    \n",
    "    input: sudoku in dictionary form\n",
    "    output: boolean\n",
    "    \"\"\"\n",
    "    for value in values:\n",
    "        if len(values[value]) != 1:\n",
    "            return False\n",
    "    return True\n",
    "\n",
    "def reduce_puzzle(values):\n",
    "    \"\"\"\n",
    "    Solve sudoku using eliminate() and only_choice()\n",
    "    \n",
    "    input: sudoku in dictionary form\n",
    "    output: resulting sudoku in dictionary form\n",
    "    \"\"\"\n",
    "    while not solved_check(values):\n",
    "        previous_values = deepcopy(values)\n",
    "        values = eliminate(values)\n",
    "        values = only_choice(values)\n",
    "        if(previous_values == values):\n",
    "            return values\n",
    "    return values\n",
    "\n",
    "grid2 = '4.....8.5.3..........7......2.....6.....8.4......1.......6.3.7.5..2.....1.4......'\n",
    "sudoku_values = parse_grid(grid2)\n",
    "#display(sudoku_values)\n",
    "display(reduce_puzzle(sudoku_values))"
   ]
  },
  {
   "cell_type": "markdown",
   "metadata": {},
   "source": [
    "# Naked twins\n",
    "http://www.sudokudragon.com/tutorialnakedtwins.htm\n",
    "Naked twins it is more sophisticated algoritm to slove sudoku efficiently. \n",
    "Simplified algorithm steps:\n",
    "1. Find two naked twins: squares which have the same two possible values\n",
    "2. Remove those values from the rest of the unit elements\n",
    "Algorithm allows to exclude possibilities in other squares in the same group (from all of their shared peers, either by square, column, row or diagonal). \n",
    "\n"
   ]
  },
  {
   "cell_type": "code",
   "execution_count": 7,
   "metadata": {
    "scrolled": true
   },
   "outputs": [],
   "source": [
    "#import deepcopy\n",
    "def naked_twins(values):\n",
    "    \"\"\"\n",
    "    Eliminate possible values using the naked twins algorithm.\n",
    "\n",
    "    input: sudoku values(dict) in a dictionary of the form\n",
    "    output: the values dictionary with the naked twins eliminated from peers.\n",
    "    \"\"\"\n",
    "\n",
    "    for key in values.keys():\n",
    "        if len(values[key]) == 0:\n",
    "            print('Grid fail!')\n",
    "            return False\n",
    "        for unit in units[key]:\n",
    "            potential_twins_fields = []\n",
    "            for u in unit:\n",
    "                if values[key] == values[u]:\n",
    "                    potential_twins_fields.append(u)\n",
    "            if len(values[key]) == len(potential_twins_fields):\n",
    "                tran_tab = str.maketrans('', '', values[key])\n",
    "                for u in unit:\n",
    "                    if u not in potential_twins_fields and len(values[u]) != 1:\n",
    "                        values[u] = values[u].translate(tran_tab)\n",
    "\n",
    "    return values\n",
    "\n",
    "\n",
    "\n",
    "\n",
    "def reduce_puzzle_with_naked_twins(values):\n",
    "    \"\"\"\n",
    "    Solve sudoku using naked twins algorithm with naked_twins() and eliminate(),only_choice()\n",
    "\n",
    "    input: sudoku in dictionary form\n",
    "    output: resulting sudoku in dictionary form\n",
    "    \"\"\"\n",
    "\n",
    "    while not solved_check(values):\n",
    "        try:\n",
    "            previous_values = deepcopy(values)\n",
    "            values = eliminate(values)\n",
    "            values = only_choice(values)\n",
    "            values = naked_twins(values)\n",
    "\n",
    "            if (previous_values == values):\n",
    "                return values\n",
    "        except TypeError:\n",
    "            print('Error grid!')\n",
    "            display(values)\n",
    "            break\n",
    "\n",
    "    return values\n",
    "\n",
    "grid2 = '4.....8.5.3..........7......2.....6.....8.4......1.......6.3.7.5..2.....1.4......'\n",
    "sudoku_values = parse_grid(grid2)\n"
   ]
  },
  {
   "cell_type": "code",
   "execution_count": 12,
   "metadata": {},
   "outputs": [
    {
     "name": "stdout",
     "output_type": "stream",
     "text": [
      "   4      1679   12679  |  139     2369    269   |   8      1239     5    \n",
      " 26789     3    1256789 | 14589   24569   245689 | 12679    1249   124679 \n",
      "  2689   15689   125689 |   7     234569  245689 | 12369   12349   123469 \n",
      "------------------------+------------------------+------------------------\n",
      "  3789     2     15789  |  3459   34579    4579  | 13579     6     13789  \n",
      "  3679   15679   15679  |  359      8     25679  |   4     12359   12379  \n",
      " 36789     4     56789  |  359      1     25679  | 23579   23589   23789  \n",
      "------------------------+------------------------+------------------------\n",
      "  289      89     289   |   6      459      3    |  1259     7     12489  \n",
      "   5      6789     3    |   2      479      1    |   69     489     4689  \n",
      "   1      6789     4    |  589     579     5789  | 23569   23589   23689  \n",
      "\n"
     ]
    }
   ],
   "source": [
    "display(reduce_puzzle_with_naked_twins(sudoku_values))"
   ]
  },
  {
   "cell_type": "markdown",
   "metadata": {},
   "source": [
    "# Algorithms analysis\n",
    "Algorithm analysis is concerned with comparing algorithms based upon execution time in seconds since some arbitrary starting point.\n"
   ]
  },
  {
   "cell_type": "code",
   "execution_count": 46,
   "metadata": {},
   "outputs": [],
   "source": [
    "from time import clock\n",
    "import scipy.stats as sstats\n",
    "import pandas as pd\n",
    "import seaborn as sns\n",
    "import numpy as np\n",
    "import matplotlib.pyplot as plt\n",
    "import scipy as scipy\n",
    "from operator import itemgetter\n",
    "from itertools import groupby\n",
    "\n",
    "def algorithm_execution_time(solve_function, sudoku_values):\n",
    "    \"\"\"\n",
    "    Estimate the exectution time of sudoku solver function.\n",
    "\n",
    "    input: function solving sudoku, sudoku values in dict form\n",
    "    \n",
    "    output: execution time in seconds\n",
    "    \"\"\"\n",
    "    start_time_solving = clock()\n",
    "    sudoku_solved = solve_function(sudoku_values)\n",
    "    is_solved = solved_check(sudoku_solved)\n",
    "    stop_time_solving = clock()\n",
    "    solve_function(sudoku_values)\n",
    "    execution_time= stop_time_solving - start_time_solving\n",
    "    \n",
    "    return execution_time, is_solved\n",
    "\n",
    "def one_way_anova(data_solver1, data_solver2, algorithm_name1, algorithm_name2, index_name, title=0):\n",
    "\n",
    "    \"\"\"\n",
    "    One-way Analysis of Variance for two datasets for input factor to obtain information about significant improvement \n",
    "    of solver algorithm compared to simple one.\n",
    "\n",
    "    input: data_solver1, data_solver2 - input dataset of solvers results, algorithm_name1, algorithm_name2 - labels of used algorithms,\n",
    "            index_name - label of analysed factor, title - optional title for graph\n",
    "    \"\"\"\n",
    "\n",
    "    print('ANOVA: factor: ', index_name)\n",
    "    print('_________________________________________________')\n",
    "    algorithms_data = pd.DataFrame()\n",
    "    algorithms_data[index_name] = np.concatenate([data_solver1, data_solver2])\n",
    "    algorithms_data['Algorithm'] = np.concatenate([[algorithm_name1 for i in range(len(data_solver1))],[ algorithm_name2 for i in range(len(data_solver2))]])\n",
    "    f_val, p_val = sstats.f_oneway(data_solver1, data_solver2)\n",
    "    print( 'Results: | F value :', f_val,' | p value : ', p_val)\n",
    "    print( 'Statistics for', algorithm_name1, ': | std. dev: ',scipy.stats.sem(data_solver1), '| mean: ', np.mean(data_solver1))\n",
    "    print('Statistics for', algorithm_name2, ': | std. dev:', scipy.stats.sem(data_solver2), '| mean: ',\n",
    "          np.mean(data_solver2))\n",
    "    print(\"\\n\")\n",
    "    \n",
    "    if p_val < 0.05:\n",
    "        print(\"Efficiencies of two algorithms are statistically different!\")\n",
    "\n",
    "    sns.set(style=\"whitegrid\")\n",
    "    paper_rc = {'lines.linewidth': 0.5, 'lines.markersize': 15}\n",
    "    sns.set_style(\"darkgrid\")\n",
    "    sns.set_context(\"paper\", rc=paper_rc)\n",
    "    g = sns.factorplot(x='Algorithm', y=index_name, data=algorithms_data, ci=95, capsize=.2, dodge=True)\n",
    "    if title:\n",
    "        tit = g.fig.suptitle(title, size=10)\n",
    "        tit.set_position([0.5, 0.997])\n",
    "    plt.grid(True, which=\"both\", ls=\"-\", c='w', color='w')\n",
    "    plt.show()\n",
    "\n",
    "\n",
    "def get_algorithms_statistics(sudoku_datasets_filename, solve_function1, solve_function2):\n",
    "    \"\"\"\n",
    "       Estimate p-value and F of one-way ANOVA for execution times and succeded solutions for two function\n",
    "       with different algorithm of sudoku solver and ploting the results.\n",
    "\n",
    "       input: filename of txt file with sudoku gird, two function with different algorithm of sudoku solver\n",
    "    \"\"\"\n",
    "\n",
    "    sudoku_datasets = open(sudoku_datasets_filename)\n",
    "    times_first_solver_list = []\n",
    "    times_twins_solver_list = []\n",
    "    first_solver_success = []\n",
    "    twins_solver_success = []\n",
    "\n",
    "\n",
    "    for sudoku_data in sudoku_datasets:\n",
    "        sudoku_values1 = parse_grid(sudoku_data)\n",
    "        sudoku_values2 = deepcopy(sudoku_values1)\n",
    "\n",
    "        time_first_solver, sudoku_solved = algorithm_execution_time(solve_function1, sudoku_values1)\n",
    "        if sudoku_solved:\n",
    "            times_first_solver_list.append(time_first_solver)\n",
    "            first_solver_success.append(1)\n",
    "        else:\n",
    "            first_solver_success.append(0)\n",
    "\n",
    "        time_twins_solver, sudoku_solved = algorithm_execution_time(solve_function2, sudoku_values2)\n",
    "        if sudoku_solved:\n",
    "            times_twins_solver_list.append(time_twins_solver)\n",
    "            twins_solver_success.append(1)\n",
    "        else:\n",
    "            twins_solver_success.append(0)\n",
    "\n",
    "    one_way_anova(times_first_solver_list, times_twins_solver_list, 'Simple', 'Naked twins', 'Time', title=0)\n",
    "    one_way_anova(first_solver_success, twins_solver_success, 'Simple', 'Naked twins', 'Success', title=0)\n",
    "\n",
    "\n"
   ]
  },
  {
   "cell_type": "code",
   "execution_count": 45,
   "metadata": {},
   "outputs": [
    {
     "name": "stdout",
     "output_type": "stream",
     "text": [
      "ANOVA: czynnik Time\n",
      "_________________________________________________\n",
      "Results: | F value : 3.5507754634874518  | p value :  0.0630610591245757\n",
      "Statistics for Simple : | std. dev:  1.2968851263212562e-06 | mean:  2.4290736158150138e-05\n",
      "Statistics for Naked twins : | std. dev: 0.0006829894866083689 | mean:  0.0013748486688624243\n",
      "\n",
      "\n"
     ]
    },
    {
     "data": {
      "image/png": "[encoded data removed]",
      "text/plain": [
       "<Figure size 288x288 with 1 Axes>"
      ]
     },
     "metadata": {},
     "output_type": "display_data"
    },
    {
     "name": "stdout",
     "output_type": "stream",
     "text": [
      "ANOVA: czynnik Success\n",
      "_________________________________________________\n",
      "Results: | F value : 1.1807228915662649  | p value :  0.2798743420571249\n",
      "Statistics for Simple : | std. dev:  0.05714285714285715 | mean:  0.8\n",
      "Statistics for Naked twins : | std. dev: 0.04642307659791976 | mean:  0.88\n",
      "\n",
      "\n"
     ]
    },
    {
     "data": {
      "image/png": "[encoded data removed]",
      "text/plain": [
       "<Figure size 288x288 with 1 Axes>"
      ]
     },
     "metadata": {},
     "output_type": "display_data"
    }
   ],
   "source": [
    "\n",
    "get_algorithms_statistics(\"sudoku_data\\\\sudoku_dataset1.txt\", reduce_puzzle, reduce_puzzle_with_naked_twins)"
   ]
  },
  {
   "cell_type": "code",
   "execution_count": null,
   "metadata": {},
   "outputs": [],
   "source": []
  }
 ],
 "metadata": {
  "kernelspec": {
   "display_name": "Python 3",
   "language": "python",
   "name": "python3"
  },
  "language_info": {
   "codemirror_mode": {
    "name": "ipython",
    "version": 3
   },
   "file_extension": ".py",
   "mimetype": "text/x-python",
   "name": "python",
   "nbconvert_exporter": "python",
   "pygments_lexer": "ipython3",
   "version": "3.6.0"
  }
 },
 "nbformat": 4,
 "nbformat_minor": 1
}
